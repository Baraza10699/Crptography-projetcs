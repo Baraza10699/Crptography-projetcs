{
 "cells": [
  {
   "cell_type": "markdown",
   "metadata": {},
   "source": [
    "Write a function $\\texttt{modpow(a,n,m)}$ that takes integers $a,n,m$ and returns $a^n \\pmod{m}$. The exponent $n$ may be positive or negative (it will be positive in at least half of the test cases), but you may assume that if $n<0$, then $a$ is a unit modulo $m$ (you'll need to use your code from the previous problem to handle the $n<0$ case). **For this problem, please do not use Python's built-in function for modular powers. You should implement the fast-powering algorithm yourself to see how it works. However, you may look up and use the built-in function on all programming assignments after this one.** The test cases will range in size, with $a$ and $n$ 256-bit integers in the largest case.\n"
   ]
  },
  {
   "cell_type": "code",
   "execution_count": 13,
   "metadata": {
    "mainSource": true
   },
   "outputs": [],
   "source": [
    "# Run this cell every time you change your source code.\n",
    "import importlib, modpowSoln\n",
    "importlib.reload(modpowSoln)\n",
    "from modpowSoln import modpow"
   ]
  },
  {
   "cell_type": "code",
   "execution_count": 14,
   "metadata": {},
   "outputs": [
    {
     "data": {
      "text/plain": [
       "4"
      ]
     },
     "execution_count": 14,
     "metadata": {},
     "output_type": "execute_result"
    }
   ],
   "source": [
    "# Sample test case (5-bit modulus and positive exponent)\n",
    "# Expected: 4\n",
    "# Time limit: 1s (not enforced by this notebook)\n",
    "modpow(4,26,22)"
   ]
  },
  {
   "cell_type": "code",
   "execution_count": null,
   "metadata": {},
   "outputs": [],
   "source": [
    "# Sample test case (16-bit modulus and negative exponent)\n",
    "# Expected: 31929\n",
    "# Time limit: 1s (not enforced by this notebook)\n",
    "modpow(15,-38809,33454)"
   ]
  },
  {
   "cell_type": "code",
   "execution_count": 1,
   "metadata": {},
   "outputs": [
    {
     "ename": "NameError",
     "evalue": "name 'modpow' is not defined",
     "output_type": "error",
     "traceback": [
      "\u001b[1;31m---------------------------------------------------------------------------\u001b[0m",
      "\u001b[1;31mNameError\u001b[0m                                 Traceback (most recent call last)",
      "\u001b[1;32m~\\AppData\\Local\\Temp/ipykernel_8216/3012175483.py\u001b[0m in \u001b[0;36m<module>\u001b[1;34m\u001b[0m\n\u001b[0;32m      2\u001b[0m \u001b[1;31m# Expected: 1325779842\u001b[0m\u001b[1;33m\u001b[0m\u001b[1;33m\u001b[0m\u001b[0m\n\u001b[0;32m      3\u001b[0m \u001b[1;31m# Time limit: 1s (not enforced by this notebook)\u001b[0m\u001b[1;33m\u001b[0m\u001b[1;33m\u001b[0m\u001b[0m\n\u001b[1;32m----> 4\u001b[1;33m \u001b[0mmodpow\u001b[0m\u001b[1;33m(\u001b[0m\u001b[1;36m12\u001b[0m\u001b[1;33m,\u001b[0m\u001b[1;36m2657675050\u001b[0m\u001b[1;33m,\u001b[0m\u001b[1;36m2712871679\u001b[0m\u001b[1;33m)\u001b[0m\u001b[1;33m\u001b[0m\u001b[1;33m\u001b[0m\u001b[0m\n\u001b[0m",
      "\u001b[1;31mNameError\u001b[0m: name 'modpow' is not defined"
     ]
    }
   ],
   "source": [
    "# Sample test case (32-bit modulus and positive exponent)\n",
    "# Expected: 1325779842\n",
    "# Time limit: 1s (not enforced by this notebook)\n",
    "modpow(12,2657675050,2712871679)"
   ]
  },
  {
   "cell_type": "code",
   "execution_count": 2,
   "metadata": {},
   "outputs": [
    {
     "ename": "NameError",
     "evalue": "name 'modpow' is not defined",
     "output_type": "error",
     "traceback": [
      "\u001b[1;31m---------------------------------------------------------------------------\u001b[0m",
      "\u001b[1;31mNameError\u001b[0m                                 Traceback (most recent call last)",
      "\u001b[1;32m~\\AppData\\Local\\Temp/ipykernel_8216/2960391623.py\u001b[0m in \u001b[0;36m<module>\u001b[1;34m\u001b[0m\n\u001b[0;32m      2\u001b[0m \u001b[1;31m# Expected: 7577281277215941756\u001b[0m\u001b[1;33m\u001b[0m\u001b[1;33m\u001b[0m\u001b[0m\n\u001b[0;32m      3\u001b[0m \u001b[1;31m# Time limit: 1s (not enforced by this notebook)\u001b[0m\u001b[1;33m\u001b[0m\u001b[1;33m\u001b[0m\u001b[0m\n\u001b[1;32m----> 4\u001b[1;33m \u001b[0mmodpow\u001b[0m\u001b[1;33m(\u001b[0m\u001b[1;36m56\u001b[0m\u001b[1;33m,\u001b[0m\u001b[1;33m-\u001b[0m\u001b[1;36m13442377174306293115\u001b[0m\u001b[1;33m,\u001b[0m\u001b[1;36m10217231750639965811\u001b[0m\u001b[1;33m)\u001b[0m\u001b[1;33m\u001b[0m\u001b[1;33m\u001b[0m\u001b[0m\n\u001b[0m",
      "\u001b[1;31mNameError\u001b[0m: name 'modpow' is not defined"
     ]
    }
   ],
   "source": [
    "# Sample test case (64-bit modulus and negative exponent)\n",
    "# Expected: 7577281277215941756\n",
    "# Time limit: 1s (not enforced by this notebook)\n",
    "modpow(56,-13442377174306293115,10217231750639965811)"
   ]
  },
  {
   "cell_type": "code",
   "execution_count": 3,
   "metadata": {},
   "outputs": [
    {
     "ename": "NameError",
     "evalue": "name 'modpow' is not defined",
     "output_type": "error",
     "traceback": [
      "\u001b[1;31m---------------------------------------------------------------------------\u001b[0m",
      "\u001b[1;31mNameError\u001b[0m                                 Traceback (most recent call last)",
      "\u001b[1;32m~\\AppData\\Local\\Temp/ipykernel_8216/792765273.py\u001b[0m in \u001b[0;36m<module>\u001b[1;34m\u001b[0m\n\u001b[0;32m      2\u001b[0m \u001b[1;31m# Expected: 587840517415719063934782010554520938615506630727349070215843361181012533478\u001b[0m\u001b[1;33m\u001b[0m\u001b[1;33m\u001b[0m\u001b[0m\n\u001b[0;32m      3\u001b[0m \u001b[1;31m# Time limit: 1s (not enforced by this notebook)\u001b[0m\u001b[1;33m\u001b[0m\u001b[1;33m\u001b[0m\u001b[0m\n\u001b[1;32m----> 4\u001b[1;33m \u001b[0mmodpow\u001b[0m\u001b[1;33m(\u001b[0m\u001b[1;36m60\u001b[0m\u001b[1;33m,\u001b[0m\u001b[1;36m82447013444512138537612806799931249387270525455388064031408489192731781078438\u001b[0m\u001b[1;33m,\u001b[0m\u001b[1;36m111111741864016626064891706726141902683018055659701705613830204399899037336082\u001b[0m\u001b[1;33m)\u001b[0m\u001b[1;33m\u001b[0m\u001b[1;33m\u001b[0m\u001b[0m\n\u001b[0m",
      "\u001b[1;31mNameError\u001b[0m: name 'modpow' is not defined"
     ]
    }
   ],
   "source": [
    "# Sample test case (256-bit modulus and positive exponent)\n",
    "# Expected: 587840517415719063934782010554520938615506630727349070215843361181012533478\n",
    "# Time limit: 1s (not enforced by this notebook)\n",
    "modpow(60,82447013444512138537612806799931249387270525455388064031408489192731781078438,111111741864016626064891706726141902683018055659701705613830204399899037336082)"
   ]
  }
 ],
 "metadata": {
  "kernelspec": {
   "display_name": "Python 3 (ipykernel)",
   "language": "python",
   "name": "python3"
  },
  "language_info": {
   "codemirror_mode": {
    "name": "ipython",
    "version": 3
   },
   "file_extension": ".py",
   "mimetype": "text/x-python",
   "name": "python",
   "nbconvert_exporter": "python",
   "pygments_lexer": "ipython3",
   "version": "3.9.7"
  }
 },
 "nbformat": 4,
 "nbformat_minor": 2
}
